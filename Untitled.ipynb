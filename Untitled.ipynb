{
 "cells": [
  {
   "cell_type": "code",
   "execution_count": 1,
   "id": "296a7802",
   "metadata": {},
   "outputs": [],
   "source": [
    "from pymongo import MongoClient\n",
    "mongo = MongoClient(port=27017)"
   ]
  },
  {
   "cell_type": "code",
   "execution_count": 2,
   "id": "e8318409",
   "metadata": {},
   "outputs": [
    {
     "name": "stdout",
     "output_type": "stream",
     "text": [
      "['admin', 'config', 'local', 'my_db']\n"
     ]
    }
   ],
   "source": [
    "print(mongo.list_database_names())"
   ]
  },
  {
   "cell_type": "code",
   "execution_count": 3,
   "id": "2328ca28",
   "metadata": {},
   "outputs": [
    {
     "name": "stdout",
     "output_type": "stream",
     "text": [
      "['admin', 'config', 'local', 'my_db']\n"
     ]
    }
   ],
   "source": [
    "print(mongo.list_database_names())"
   ]
  },
  {
   "cell_type": "code",
   "execution_count": 4,
   "id": "4a958948",
   "metadata": {},
   "outputs": [],
   "source": [
    "my_first_db = mongo['my_db']"
   ]
  },
  {
   "cell_type": "code",
   "execution_count": 5,
   "id": "deb843ee",
   "metadata": {},
   "outputs": [
    {
     "data": {
      "text/plain": [
       "['my_collection']"
      ]
     },
     "execution_count": 5,
     "metadata": {},
     "output_type": "execute_result"
    }
   ],
   "source": [
    "my_first_collection = my_first_db['my_collection']\n",
    "my_first_db.list_collection_names()"
   ]
  },
  {
   "cell_type": "code",
   "execution_count": 6,
   "id": "c7d305cc",
   "metadata": {},
   "outputs": [
    {
     "data": {
      "text/plain": [
       "<pymongo.results.InsertOneResult at 0x7fa1475e9a90>"
      ]
     },
     "execution_count": 6,
     "metadata": {},
     "output_type": "execute_result"
    }
   ],
   "source": [
    "my_first_collection.insert_one({'name': 'Mickey'})"
   ]
  },
  {
   "cell_type": "code",
   "execution_count": 7,
   "id": "9fb6403d",
   "metadata": {},
   "outputs": [
    {
     "name": "stdout",
     "output_type": "stream",
     "text": [
      "['admin', 'config', 'local', 'my_db']\n",
      "['my_collection']\n"
     ]
    }
   ],
   "source": [
    "print(mongo.list_database_names())\n",
    "print(my_first_db.list_collection_names())"
   ]
  },
  {
   "cell_type": "code",
   "execution_count": 8,
   "id": "30eab868",
   "metadata": {},
   "outputs": [
    {
     "data": {
      "text/plain": [
       "<pymongo.results.InsertOneResult at 0x7fa147613d60>"
      ]
     },
     "execution_count": 8,
     "metadata": {},
     "output_type": "execute_result"
    }
   ],
   "source": [
    "my_first_collection.insert_one({'name': 'Minnie','age': 90})"
   ]
  },
  {
   "cell_type": "code",
   "execution_count": 11,
   "id": "4a1f5bd4",
   "metadata": {},
   "outputs": [
    {
     "name": "stdout",
     "output_type": "stream",
     "text": [
      "{'_id': ObjectId('6359b8ac29b1bd6ef78d1e92'), 'name': 'Mickey Mouse'}\n",
      "{'_id': ObjectId('6359b8e629b1bd6ef78d1e93'), 'name': 'Minnie'}\n",
      "{'_id': ObjectId('6359b91a29b1bd6ef78d1e94'), 'name': 'Minnie', 'age': 90}\n",
      "{'_id': 3, 'name': 'Goofy', 'age': 87, 'species': 'dog'}\n",
      "{'_id': ObjectId('6359ba1c29b1bd6ef78d1e95'), 'name': 'Donald', 'species': 'duck'}\n",
      "{'_id': ObjectId('6359ba1c29b1bd6ef78d1e96'), 'name': 'Daisy', 'species': 'duck'}\n",
      "{'_id': ObjectId('635c08710cefb4846f2dc44e'), 'name': 'Mickey'}\n",
      "{'_id': ObjectId('635c08710cefb4846f2dc44f'), 'name': 'Minnie', 'age': 90}\n"
     ]
    }
   ],
   "source": [
    "results = my_first_collection.find()\n",
    "for result in results:\n",
    "    print(result)"
   ]
  },
  {
   "cell_type": "code",
   "execution_count": 12,
   "id": "ad961b12",
   "metadata": {},
   "outputs": [
    {
     "ename": "DuplicateKeyError",
     "evalue": "E11000 duplicate key error collection: my_db.my_collection index: _id_ dup key: { _id: 3 }, full error: {'index': 0, 'code': 11000, 'errmsg': 'E11000 duplicate key error collection: my_db.my_collection index: _id_ dup key: { _id: 3 }', 'keyPattern': {'_id': 1}, 'keyValue': {'_id': 3}}",
     "output_type": "error",
     "traceback": [
      "\u001b[0;31m---------------------------------------------------------------------------\u001b[0m",
      "\u001b[0;31mDuplicateKeyError\u001b[0m                         Traceback (most recent call last)",
      "Input \u001b[0;32mIn [12]\u001b[0m, in \u001b[0;36m<cell line: 2>\u001b[0;34m()\u001b[0m\n\u001b[1;32m      1\u001b[0m goofy \u001b[38;5;241m=\u001b[39m {\u001b[38;5;124m'\u001b[39m\u001b[38;5;124m_id\u001b[39m\u001b[38;5;124m'\u001b[39m:\u001b[38;5;241m3\u001b[39m, \u001b[38;5;124m'\u001b[39m\u001b[38;5;124mname\u001b[39m\u001b[38;5;124m'\u001b[39m: \u001b[38;5;124m'\u001b[39m\u001b[38;5;124mGoofy\u001b[39m\u001b[38;5;124m'\u001b[39m, \u001b[38;5;124m'\u001b[39m\u001b[38;5;124mage\u001b[39m\u001b[38;5;124m'\u001b[39m: \u001b[38;5;241m87\u001b[39m, \u001b[38;5;124m'\u001b[39m\u001b[38;5;124mspecies\u001b[39m\u001b[38;5;124m'\u001b[39m: \u001b[38;5;124m'\u001b[39m\u001b[38;5;124mdog\u001b[39m\u001b[38;5;124m'\u001b[39m}\n\u001b[0;32m----> 2\u001b[0m \u001b[43mmy_first_collection\u001b[49m\u001b[38;5;241;43m.\u001b[39;49m\u001b[43minsert_one\u001b[49m\u001b[43m(\u001b[49m\u001b[43mgoofy\u001b[49m\u001b[43m)\u001b[49m\n\u001b[1;32m      4\u001b[0m results \u001b[38;5;241m=\u001b[39m my_first_collection\u001b[38;5;241m.\u001b[39mfind()\n\u001b[1;32m      5\u001b[0m \u001b[38;5;28;01mfor\u001b[39;00m result \u001b[38;5;129;01min\u001b[39;00m results:\n",
      "File \u001b[0;32m~/opt/anaconda3/lib/python3.9/site-packages/pymongo/collection.py:621\u001b[0m, in \u001b[0;36mCollection.insert_one\u001b[0;34m(self, document, bypass_document_validation, session, comment)\u001b[0m\n\u001b[1;32m    617\u001b[0m     document[\u001b[38;5;124m\"\u001b[39m\u001b[38;5;124m_id\u001b[39m\u001b[38;5;124m\"\u001b[39m] \u001b[38;5;241m=\u001b[39m ObjectId()\n\u001b[1;32m    619\u001b[0m write_concern \u001b[38;5;241m=\u001b[39m \u001b[38;5;28mself\u001b[39m\u001b[38;5;241m.\u001b[39m_write_concern_for(session)\n\u001b[1;32m    620\u001b[0m \u001b[38;5;28;01mreturn\u001b[39;00m InsertOneResult(\n\u001b[0;32m--> 621\u001b[0m     \u001b[38;5;28;43mself\u001b[39;49m\u001b[38;5;241;43m.\u001b[39;49m\u001b[43m_insert_one\u001b[49m\u001b[43m(\u001b[49m\n\u001b[1;32m    622\u001b[0m \u001b[43m        \u001b[49m\u001b[43mdocument\u001b[49m\u001b[43m,\u001b[49m\n\u001b[1;32m    623\u001b[0m \u001b[43m        \u001b[49m\u001b[43mordered\u001b[49m\u001b[38;5;241;43m=\u001b[39;49m\u001b[38;5;28;43;01mTrue\u001b[39;49;00m\u001b[43m,\u001b[49m\n\u001b[1;32m    624\u001b[0m \u001b[43m        \u001b[49m\u001b[43mwrite_concern\u001b[49m\u001b[38;5;241;43m=\u001b[39;49m\u001b[43mwrite_concern\u001b[49m\u001b[43m,\u001b[49m\n\u001b[1;32m    625\u001b[0m \u001b[43m        \u001b[49m\u001b[43mop_id\u001b[49m\u001b[38;5;241;43m=\u001b[39;49m\u001b[38;5;28;43;01mNone\u001b[39;49;00m\u001b[43m,\u001b[49m\n\u001b[1;32m    626\u001b[0m \u001b[43m        \u001b[49m\u001b[43mbypass_doc_val\u001b[49m\u001b[38;5;241;43m=\u001b[39;49m\u001b[43mbypass_document_validation\u001b[49m\u001b[43m,\u001b[49m\n\u001b[1;32m    627\u001b[0m \u001b[43m        \u001b[49m\u001b[43msession\u001b[49m\u001b[38;5;241;43m=\u001b[39;49m\u001b[43msession\u001b[49m\u001b[43m,\u001b[49m\n\u001b[1;32m    628\u001b[0m \u001b[43m        \u001b[49m\u001b[43mcomment\u001b[49m\u001b[38;5;241;43m=\u001b[39;49m\u001b[43mcomment\u001b[49m\u001b[43m,\u001b[49m\n\u001b[1;32m    629\u001b[0m \u001b[43m    \u001b[49m\u001b[43m)\u001b[49m,\n\u001b[1;32m    630\u001b[0m     write_concern\u001b[38;5;241m.\u001b[39macknowledged,\n\u001b[1;32m    631\u001b[0m )\n",
      "File \u001b[0;32m~/opt/anaconda3/lib/python3.9/site-packages/pymongo/collection.py:562\u001b[0m, in \u001b[0;36mCollection._insert_one\u001b[0;34m(self, doc, ordered, write_concern, op_id, bypass_doc_val, session, comment)\u001b[0m\n\u001b[1;32m    550\u001b[0m     result \u001b[38;5;241m=\u001b[39m sock_info\u001b[38;5;241m.\u001b[39mcommand(\n\u001b[1;32m    551\u001b[0m         \u001b[38;5;28mself\u001b[39m\u001b[38;5;241m.\u001b[39m__database\u001b[38;5;241m.\u001b[39mname,\n\u001b[1;32m    552\u001b[0m         command,\n\u001b[0;32m   (...)\u001b[0m\n\u001b[1;32m    557\u001b[0m         retryable_write\u001b[38;5;241m=\u001b[39mretryable_write,\n\u001b[1;32m    558\u001b[0m     )\n\u001b[1;32m    560\u001b[0m     _check_write_command_response(result)\n\u001b[0;32m--> 562\u001b[0m \u001b[38;5;28;43mself\u001b[39;49m\u001b[38;5;241;43m.\u001b[39;49m\u001b[43m__database\u001b[49m\u001b[38;5;241;43m.\u001b[39;49m\u001b[43mclient\u001b[49m\u001b[38;5;241;43m.\u001b[39;49m\u001b[43m_retryable_write\u001b[49m\u001b[43m(\u001b[49m\u001b[43macknowledged\u001b[49m\u001b[43m,\u001b[49m\u001b[43m \u001b[49m\u001b[43m_insert_command\u001b[49m\u001b[43m,\u001b[49m\u001b[43m \u001b[49m\u001b[43msession\u001b[49m\u001b[43m)\u001b[49m\n\u001b[1;32m    564\u001b[0m \u001b[38;5;28;01mif\u001b[39;00m \u001b[38;5;129;01mnot\u001b[39;00m \u001b[38;5;28misinstance\u001b[39m(doc, RawBSONDocument):\n\u001b[1;32m    565\u001b[0m     \u001b[38;5;28;01mreturn\u001b[39;00m doc\u001b[38;5;241m.\u001b[39mget(\u001b[38;5;124m\"\u001b[39m\u001b[38;5;124m_id\u001b[39m\u001b[38;5;124m\"\u001b[39m)\n",
      "File \u001b[0;32m~/opt/anaconda3/lib/python3.9/site-packages/pymongo/mongo_client.py:1476\u001b[0m, in \u001b[0;36mMongoClient._retryable_write\u001b[0;34m(self, retryable, func, session)\u001b[0m\n\u001b[1;32m   1474\u001b[0m \u001b[38;5;124;03m\"\"\"Internal retryable write helper.\"\"\"\u001b[39;00m\n\u001b[1;32m   1475\u001b[0m \u001b[38;5;28;01mwith\u001b[39;00m \u001b[38;5;28mself\u001b[39m\u001b[38;5;241m.\u001b[39m_tmp_session(session) \u001b[38;5;28;01mas\u001b[39;00m s:\n\u001b[0;32m-> 1476\u001b[0m     \u001b[38;5;28;01mreturn\u001b[39;00m \u001b[38;5;28;43mself\u001b[39;49m\u001b[38;5;241;43m.\u001b[39;49m\u001b[43m_retry_with_session\u001b[49m\u001b[43m(\u001b[49m\u001b[43mretryable\u001b[49m\u001b[43m,\u001b[49m\u001b[43m \u001b[49m\u001b[43mfunc\u001b[49m\u001b[43m,\u001b[49m\u001b[43m \u001b[49m\u001b[43ms\u001b[49m\u001b[43m,\u001b[49m\u001b[43m \u001b[49m\u001b[38;5;28;43;01mNone\u001b[39;49;00m\u001b[43m)\u001b[49m\n",
      "File \u001b[0;32m~/opt/anaconda3/lib/python3.9/site-packages/pymongo/mongo_client.py:1349\u001b[0m, in \u001b[0;36mMongoClient._retry_with_session\u001b[0;34m(self, retryable, func, session, bulk)\u001b[0m\n\u001b[1;32m   1339\u001b[0m \u001b[38;5;124;03m\"\"\"Execute an operation with at most one consecutive retries\u001b[39;00m\n\u001b[1;32m   1340\u001b[0m \n\u001b[1;32m   1341\u001b[0m \u001b[38;5;124;03mReturns func()'s return value on success. On error retries the same\u001b[39;00m\n\u001b[0;32m   (...)\u001b[0m\n\u001b[1;32m   1344\u001b[0m \u001b[38;5;124;03mRe-raises any exception thrown by func().\u001b[39;00m\n\u001b[1;32m   1345\u001b[0m \u001b[38;5;124;03m\"\"\"\u001b[39;00m\n\u001b[1;32m   1346\u001b[0m retryable \u001b[38;5;241m=\u001b[39m (\n\u001b[1;32m   1347\u001b[0m     retryable \u001b[38;5;129;01mand\u001b[39;00m \u001b[38;5;28mself\u001b[39m\u001b[38;5;241m.\u001b[39moptions\u001b[38;5;241m.\u001b[39mretry_writes \u001b[38;5;129;01mand\u001b[39;00m session \u001b[38;5;129;01mand\u001b[39;00m \u001b[38;5;129;01mnot\u001b[39;00m session\u001b[38;5;241m.\u001b[39min_transaction\n\u001b[1;32m   1348\u001b[0m )\n\u001b[0;32m-> 1349\u001b[0m \u001b[38;5;28;01mreturn\u001b[39;00m \u001b[38;5;28;43mself\u001b[39;49m\u001b[38;5;241;43m.\u001b[39;49m\u001b[43m_retry_internal\u001b[49m\u001b[43m(\u001b[49m\u001b[43mretryable\u001b[49m\u001b[43m,\u001b[49m\u001b[43m \u001b[49m\u001b[43mfunc\u001b[49m\u001b[43m,\u001b[49m\u001b[43m \u001b[49m\u001b[43msession\u001b[49m\u001b[43m,\u001b[49m\u001b[43m \u001b[49m\u001b[43mbulk\u001b[49m\u001b[43m)\u001b[49m\n",
      "File \u001b[0;32m~/opt/anaconda3/lib/python3.9/site-packages/pymongo/_csot.py:105\u001b[0m, in \u001b[0;36mapply.<locals>.csot_wrapper\u001b[0;34m(self, *args, **kwargs)\u001b[0m\n\u001b[1;32m    103\u001b[0m         \u001b[38;5;28;01mwith\u001b[39;00m _TimeoutContext(timeout):\n\u001b[1;32m    104\u001b[0m             \u001b[38;5;28;01mreturn\u001b[39;00m func(\u001b[38;5;28mself\u001b[39m, \u001b[38;5;241m*\u001b[39margs, \u001b[38;5;241m*\u001b[39m\u001b[38;5;241m*\u001b[39mkwargs)\n\u001b[0;32m--> 105\u001b[0m \u001b[38;5;28;01mreturn\u001b[39;00m \u001b[43mfunc\u001b[49m\u001b[43m(\u001b[49m\u001b[38;5;28;43mself\u001b[39;49m\u001b[43m,\u001b[49m\u001b[43m \u001b[49m\u001b[38;5;241;43m*\u001b[39;49m\u001b[43margs\u001b[49m\u001b[43m,\u001b[49m\u001b[43m \u001b[49m\u001b[38;5;241;43m*\u001b[39;49m\u001b[38;5;241;43m*\u001b[39;49m\u001b[43mkwargs\u001b[49m\u001b[43m)\u001b[49m\n",
      "File \u001b[0;32m~/opt/anaconda3/lib/python3.9/site-packages/pymongo/mongo_client.py:1390\u001b[0m, in \u001b[0;36mMongoClient._retry_internal\u001b[0;34m(self, retryable, func, session, bulk)\u001b[0m\n\u001b[1;32m   1388\u001b[0m                 \u001b[38;5;28;01mraise\u001b[39;00m last_error\n\u001b[1;32m   1389\u001b[0m             retryable \u001b[38;5;241m=\u001b[39m \u001b[38;5;28;01mFalse\u001b[39;00m\n\u001b[0;32m-> 1390\u001b[0m         \u001b[38;5;28;01mreturn\u001b[39;00m \u001b[43mfunc\u001b[49m\u001b[43m(\u001b[49m\u001b[43msession\u001b[49m\u001b[43m,\u001b[49m\u001b[43m \u001b[49m\u001b[43msock_info\u001b[49m\u001b[43m,\u001b[49m\u001b[43m \u001b[49m\u001b[43mretryable\u001b[49m\u001b[43m)\u001b[49m\n\u001b[1;32m   1391\u001b[0m \u001b[38;5;28;01mexcept\u001b[39;00m ServerSelectionTimeoutError:\n\u001b[1;32m   1392\u001b[0m     \u001b[38;5;28;01mif\u001b[39;00m is_retrying():\n\u001b[1;32m   1393\u001b[0m         \u001b[38;5;66;03m# The application may think the write was never attempted\u001b[39;00m\n\u001b[1;32m   1394\u001b[0m         \u001b[38;5;66;03m# if we raise ServerSelectionTimeoutError on the retry\u001b[39;00m\n\u001b[1;32m   1395\u001b[0m         \u001b[38;5;66;03m# attempt. Raise the original exception instead.\u001b[39;00m\n",
      "File \u001b[0;32m~/opt/anaconda3/lib/python3.9/site-packages/pymongo/collection.py:560\u001b[0m, in \u001b[0;36mCollection._insert_one.<locals>._insert_command\u001b[0;34m(session, sock_info, retryable_write)\u001b[0m\n\u001b[1;32m    548\u001b[0m     command[\u001b[38;5;124m\"\u001b[39m\u001b[38;5;124mbypassDocumentValidation\u001b[39m\u001b[38;5;124m\"\u001b[39m] \u001b[38;5;241m=\u001b[39m \u001b[38;5;28;01mTrue\u001b[39;00m\n\u001b[1;32m    550\u001b[0m result \u001b[38;5;241m=\u001b[39m sock_info\u001b[38;5;241m.\u001b[39mcommand(\n\u001b[1;32m    551\u001b[0m     \u001b[38;5;28mself\u001b[39m\u001b[38;5;241m.\u001b[39m__database\u001b[38;5;241m.\u001b[39mname,\n\u001b[1;32m    552\u001b[0m     command,\n\u001b[0;32m   (...)\u001b[0m\n\u001b[1;32m    557\u001b[0m     retryable_write\u001b[38;5;241m=\u001b[39mretryable_write,\n\u001b[1;32m    558\u001b[0m )\n\u001b[0;32m--> 560\u001b[0m \u001b[43m_check_write_command_response\u001b[49m\u001b[43m(\u001b[49m\u001b[43mresult\u001b[49m\u001b[43m)\u001b[49m\n",
      "File \u001b[0;32m~/opt/anaconda3/lib/python3.9/site-packages/pymongo/helpers.py:217\u001b[0m, in \u001b[0;36m_check_write_command_response\u001b[0;34m(result)\u001b[0m\n\u001b[1;32m    215\u001b[0m write_errors \u001b[38;5;241m=\u001b[39m result\u001b[38;5;241m.\u001b[39mget(\u001b[38;5;124m\"\u001b[39m\u001b[38;5;124mwriteErrors\u001b[39m\u001b[38;5;124m\"\u001b[39m)\n\u001b[1;32m    216\u001b[0m \u001b[38;5;28;01mif\u001b[39;00m write_errors:\n\u001b[0;32m--> 217\u001b[0m     \u001b[43m_raise_last_write_error\u001b[49m\u001b[43m(\u001b[49m\u001b[43mwrite_errors\u001b[49m\u001b[43m)\u001b[49m\n\u001b[1;32m    219\u001b[0m wce \u001b[38;5;241m=\u001b[39m _get_wce_doc(result)\n\u001b[1;32m    220\u001b[0m \u001b[38;5;28;01mif\u001b[39;00m wce:\n",
      "File \u001b[0;32m~/opt/anaconda3/lib/python3.9/site-packages/pymongo/helpers.py:189\u001b[0m, in \u001b[0;36m_raise_last_write_error\u001b[0;34m(write_errors)\u001b[0m\n\u001b[1;32m    187\u001b[0m error \u001b[38;5;241m=\u001b[39m write_errors[\u001b[38;5;241m-\u001b[39m\u001b[38;5;241m1\u001b[39m]\n\u001b[1;32m    188\u001b[0m \u001b[38;5;28;01mif\u001b[39;00m error\u001b[38;5;241m.\u001b[39mget(\u001b[38;5;124m\"\u001b[39m\u001b[38;5;124mcode\u001b[39m\u001b[38;5;124m\"\u001b[39m) \u001b[38;5;241m==\u001b[39m \u001b[38;5;241m11000\u001b[39m:\n\u001b[0;32m--> 189\u001b[0m     \u001b[38;5;28;01mraise\u001b[39;00m DuplicateKeyError(error\u001b[38;5;241m.\u001b[39mget(\u001b[38;5;124m\"\u001b[39m\u001b[38;5;124merrmsg\u001b[39m\u001b[38;5;124m\"\u001b[39m), \u001b[38;5;241m11000\u001b[39m, error)\n\u001b[1;32m    190\u001b[0m \u001b[38;5;28;01mraise\u001b[39;00m WriteError(error\u001b[38;5;241m.\u001b[39mget(\u001b[38;5;124m\"\u001b[39m\u001b[38;5;124merrmsg\u001b[39m\u001b[38;5;124m\"\u001b[39m), error\u001b[38;5;241m.\u001b[39mget(\u001b[38;5;124m\"\u001b[39m\u001b[38;5;124mcode\u001b[39m\u001b[38;5;124m\"\u001b[39m), error)\n",
      "\u001b[0;31mDuplicateKeyError\u001b[0m: E11000 duplicate key error collection: my_db.my_collection index: _id_ dup key: { _id: 3 }, full error: {'index': 0, 'code': 11000, 'errmsg': 'E11000 duplicate key error collection: my_db.my_collection index: _id_ dup key: { _id: 3 }', 'keyPattern': {'_id': 1}, 'keyValue': {'_id': 3}}"
     ]
    }
   ],
   "source": [
    "goofy = {'_id':3, 'name': 'Goofy', 'age': 87, 'species': 'dog'}\n",
    "my_first_collection.insert_one(goofy)\n",
    "\n",
    "results = my_first_collection.find()\n",
    "for result in results:\n",
    "    print(result)"
   ]
  },
  {
   "cell_type": "code",
   "execution_count": 13,
   "id": "c4dc1ae6",
   "metadata": {},
   "outputs": [
    {
     "data": {
      "text/plain": [
       "<pymongo.results.InsertManyResult at 0x7fa145558760>"
      ]
     },
     "execution_count": 13,
     "metadata": {},
     "output_type": "execute_result"
    }
   ],
   "source": [
    "animals = [{'name': 'Donald', 'species': 'duck'}, {'name': 'Daisy', 'species': 'duck'}]\n",
    "my_first_collection.insert_many(animals)"
   ]
  },
  {
   "cell_type": "code",
   "execution_count": 14,
   "id": "f8adb103",
   "metadata": {},
   "outputs": [
    {
     "name": "stdout",
     "output_type": "stream",
     "text": [
      "{'_id': ObjectId('6359b8ac29b1bd6ef78d1e92'), 'name': 'Mickey Mouse'}\n",
      "{'_id': ObjectId('6359b8e629b1bd6ef78d1e93'), 'name': 'Minnie'}\n",
      "{'_id': ObjectId('6359b91a29b1bd6ef78d1e94'), 'name': 'Minnie', 'age': 90}\n",
      "{'_id': 3, 'name': 'Goofy', 'age': 87, 'species': 'dog'}\n",
      "{'_id': ObjectId('6359ba1c29b1bd6ef78d1e95'), 'name': 'Donald', 'species': 'duck'}\n",
      "{'_id': ObjectId('6359ba1c29b1bd6ef78d1e96'), 'name': 'Daisy', 'species': 'duck'}\n",
      "{'_id': ObjectId('635c08710cefb4846f2dc44e'), 'name': 'Mickey'}\n",
      "{'_id': ObjectId('635c08710cefb4846f2dc44f'), 'name': 'Minnie', 'age': 90}\n",
      "{'_id': ObjectId('635c08830cefb4846f2dc450'), 'name': 'Donald', 'species': 'duck'}\n",
      "{'_id': ObjectId('635c08830cefb4846f2dc451'), 'name': 'Daisy', 'species': 'duck'}\n"
     ]
    }
   ],
   "source": [
    "results = my_first_collection.find()\n",
    "for result in results:\n",
    "    print(result)"
   ]
  },
  {
   "cell_type": "code",
   "execution_count": 15,
   "id": "2d342428",
   "metadata": {},
   "outputs": [
    {
     "name": "stdout",
     "output_type": "stream",
     "text": [
      "{'_id': ObjectId('6359ba1c29b1bd6ef78d1e95'), 'name': 'Donald', 'species': 'duck'}\n",
      "{'_id': ObjectId('635c08830cefb4846f2dc450'), 'name': 'Donald', 'species': 'duck'}\n"
     ]
    }
   ],
   "source": [
    "query = {'name': 'Donald'}\n",
    "results = my_first_collection.find(query)\n",
    "for result in results:\n",
    "    print(result)"
   ]
  },
  {
   "cell_type": "code",
   "execution_count": 16,
   "id": "54ff1d22",
   "metadata": {},
   "outputs": [
    {
     "data": {
      "text/plain": [
       "[{'_id': ObjectId('6359b91a29b1bd6ef78d1e94'), 'name': 'Minnie', 'age': 90},\n",
       " {'_id': 3, 'name': 'Goofy', 'age': 87, 'species': 'dog'},\n",
       " {'_id': ObjectId('635c08710cefb4846f2dc44f'), 'name': 'Minnie', 'age': 90}]"
      ]
     },
     "execution_count": 16,
     "metadata": {},
     "output_type": "execute_result"
    }
   ],
   "source": [
    "query = {'age': {'$gt':85}}\n",
    "results = my_first_collection.find(query)\n",
    "[result for result in results]"
   ]
  },
  {
   "cell_type": "code",
   "execution_count": 17,
   "id": "817d71c3",
   "metadata": {},
   "outputs": [
    {
     "data": {
      "text/plain": [
       "[{'_id': 3, 'name': 'Goofy', 'age': 87, 'species': 'dog'}]"
      ]
     },
     "execution_count": 17,
     "metadata": {},
     "output_type": "execute_result"
    }
   ],
   "source": [
    "query = {'age': {'$lt':88}}\n",
    "results = my_first_collection.find(query)\n",
    "[result for result in results]"
   ]
  },
  {
   "cell_type": "code",
   "execution_count": 18,
   "id": "850d0a32",
   "metadata": {},
   "outputs": [
    {
     "data": {
      "text/plain": [
       "[{'_id': ObjectId('6359b8ac29b1bd6ef78d1e92'), 'name': 'Mickey Mouse'},\n",
       " {'_id': ObjectId('6359b8e629b1bd6ef78d1e93'), 'name': 'Minnie'},\n",
       " {'_id': ObjectId('6359b91a29b1bd6ef78d1e94'), 'name': 'Minnie', 'age': 90},\n",
       " {'_id': 3, 'name': 'Goofy', 'age': 87, 'species': 'dog'},\n",
       " {'_id': ObjectId('6359ba1c29b1bd6ef78d1e95'),\n",
       "  'name': 'Donald',\n",
       "  'species': 'duck'},\n",
       " {'_id': ObjectId('6359ba1c29b1bd6ef78d1e96'),\n",
       "  'name': 'Daisy',\n",
       "  'species': 'duck'},\n",
       " {'_id': ObjectId('635c08710cefb4846f2dc44e'), 'name': 'Mickey Mouse'},\n",
       " {'_id': ObjectId('635c08710cefb4846f2dc44f'), 'name': 'Minnie', 'age': 90},\n",
       " {'_id': ObjectId('635c08830cefb4846f2dc450'),\n",
       "  'name': 'Donald',\n",
       "  'species': 'duck'},\n",
       " {'_id': ObjectId('635c08830cefb4846f2dc451'),\n",
       "  'name': 'Daisy',\n",
       "  'species': 'duck'}]"
      ]
     },
     "execution_count": 18,
     "metadata": {},
     "output_type": "execute_result"
    }
   ],
   "source": [
    "query = {'name': 'Mickey'}\n",
    "update = {'$set': {'name': 'Mickey Mouse'}}\n",
    "my_first_collection.update_one(query, update)\n",
    "[r for r in my_first_collection.find()]"
   ]
  },
  {
   "cell_type": "code",
   "execution_count": 19,
   "id": "d41d586a",
   "metadata": {},
   "outputs": [
    {
     "data": {
      "text/plain": [
       "[{'_id': ObjectId('6359b8ac29b1bd6ef78d1e92'), 'name': 'Mickey Mouse'},\n",
       " {'_id': ObjectId('6359b8e629b1bd6ef78d1e93'), 'name': 'Minnie'},\n",
       " {'_id': ObjectId('6359b91a29b1bd6ef78d1e94'), 'name': 'Minnie', 'age': 90},\n",
       " {'_id': 3, 'name': 'Goofy', 'age': 87, 'species': 'dog'},\n",
       " {'_id': ObjectId('6359ba1c29b1bd6ef78d1e95'),\n",
       "  'name': 'Donald',\n",
       "  'species': 'duck'},\n",
       " {'_id': ObjectId('6359ba1c29b1bd6ef78d1e96'),\n",
       "  'name': 'Daisy',\n",
       "  'species': 'duck'},\n",
       " {'_id': ObjectId('635c08710cefb4846f2dc44e'), 'name': 'Mickey Mouse'},\n",
       " {'_id': ObjectId('635c08710cefb4846f2dc44f'), 'name': 'Minnie', 'age': 90},\n",
       " {'_id': ObjectId('635c08830cefb4846f2dc450'),\n",
       "  'name': 'Donald',\n",
       "  'species': 'duck'},\n",
       " {'_id': ObjectId('635c08830cefb4846f2dc451'),\n",
       "  'name': 'Daisy',\n",
       "  'species': 'duck'}]"
      ]
     },
     "execution_count": 19,
     "metadata": {},
     "output_type": "execute_result"
    }
   ],
   "source": [
    "query = {'name': 'Mickey'}\n",
    "update = {'$set': {'name': 'Mickey Mouse'}}\n",
    "my_first_collection.update_one(query, update)\n",
    "[r for r in my_first_collection.find()]"
   ]
  },
  {
   "cell_type": "code",
   "execution_count": 20,
   "id": "953a61f7",
   "metadata": {},
   "outputs": [
    {
     "data": {
      "text/plain": [
       "[{'_id': ObjectId('6359b8ac29b1bd6ef78d1e92'), 'name': 'Mickey Mouse'},\n",
       " {'_id': ObjectId('6359b8e629b1bd6ef78d1e93'), 'name': 'Minnie Mouse'},\n",
       " {'_id': ObjectId('6359b91a29b1bd6ef78d1e94'), 'name': 'Minnie', 'age': 90},\n",
       " {'_id': 3, 'name': 'Goofy', 'age': 87, 'species': 'dog'},\n",
       " {'_id': ObjectId('6359ba1c29b1bd6ef78d1e95'),\n",
       "  'name': 'Donald',\n",
       "  'species': 'duck'},\n",
       " {'_id': ObjectId('6359ba1c29b1bd6ef78d1e96'),\n",
       "  'name': 'Daisy',\n",
       "  'species': 'duck'},\n",
       " {'_id': ObjectId('635c08710cefb4846f2dc44e'), 'name': 'Mickey Mouse'},\n",
       " {'_id': ObjectId('635c08710cefb4846f2dc44f'), 'name': 'Minnie', 'age': 90},\n",
       " {'_id': ObjectId('635c08830cefb4846f2dc450'),\n",
       "  'name': 'Donald',\n",
       "  'species': 'duck'},\n",
       " {'_id': ObjectId('635c08830cefb4846f2dc451'),\n",
       "  'name': 'Daisy',\n",
       "  'species': 'duck'}]"
      ]
     },
     "execution_count": 20,
     "metadata": {},
     "output_type": "execute_result"
    }
   ],
   "source": [
    "query = {'name': 'Minnie'}\n",
    "update = {'$set': {'name': 'Minnie Mouse'}}\n",
    "my_first_collection.update_one(query, update)\n",
    "[r for r in my_first_collection.find()]"
   ]
  },
  {
   "cell_type": "code",
   "execution_count": 21,
   "id": "a90ed41e",
   "metadata": {},
   "outputs": [
    {
     "data": {
      "text/plain": [
       "[{'_id': ObjectId('6359b8e629b1bd6ef78d1e93'), 'name': 'Minnie Mouse'},\n",
       " {'_id': ObjectId('6359b91a29b1bd6ef78d1e94'), 'name': 'Minnie', 'age': 90},\n",
       " {'_id': 3, 'name': 'Goofy', 'age': 87, 'species': 'dog'},\n",
       " {'_id': ObjectId('6359ba1c29b1bd6ef78d1e95'),\n",
       "  'name': 'Donald',\n",
       "  'species': 'duck'},\n",
       " {'_id': ObjectId('6359ba1c29b1bd6ef78d1e96'),\n",
       "  'name': 'Daisy',\n",
       "  'species': 'duck'},\n",
       " {'_id': ObjectId('635c08710cefb4846f2dc44e'), 'name': 'Mickey Mouse'},\n",
       " {'_id': ObjectId('635c08710cefb4846f2dc44f'), 'name': 'Minnie', 'age': 90},\n",
       " {'_id': ObjectId('635c08830cefb4846f2dc450'),\n",
       "  'name': 'Donald',\n",
       "  'species': 'duck'},\n",
       " {'_id': ObjectId('635c08830cefb4846f2dc451'),\n",
       "  'name': 'Daisy',\n",
       "  'species': 'duck'}]"
      ]
     },
     "execution_count": 21,
     "metadata": {},
     "output_type": "execute_result"
    }
   ],
   "source": [
    "query = {'name': 'Mickey Mouse'}\n",
    "my_first_collection.delete_one(query)\n",
    "[r for r in my_first_collection.find()]"
   ]
  },
  {
   "cell_type": "code",
   "execution_count": 26,
   "id": "f12abc90",
   "metadata": {},
   "outputs": [
    {
     "data": {
      "text/plain": [
       "[{'_id': ObjectId('6359b8e629b1bd6ef78d1e93'), 'name': 'Minnie Mouse'},\n",
       " {'_id': ObjectId('6359b91a29b1bd6ef78d1e94'), 'name': 'Minnie', 'age': 90},\n",
       " {'_id': 3, 'name': 'Goofy', 'age': 87, 'species': 'dog'},\n",
       " {'_id': ObjectId('6359ba1c29b1bd6ef78d1e95'),\n",
       "  'name': 'Donald',\n",
       "  'species': 'duck'},\n",
       " {'_id': ObjectId('6359ba1c29b1bd6ef78d1e96'),\n",
       "  'name': 'Daisy',\n",
       "  'species': 'duck'},\n",
       " {'_id': ObjectId('635c08710cefb4846f2dc44e'), 'name': 'Mickey Mouse'},\n",
       " {'_id': ObjectId('635c08710cefb4846f2dc44f'), 'name': 'Minnie', 'age': 90},\n",
       " {'_id': ObjectId('635c08830cefb4846f2dc450'),\n",
       "  'name': 'Donald',\n",
       "  'species': 'duck'},\n",
       " {'_id': ObjectId('635c08830cefb4846f2dc451'),\n",
       "  'name': 'Daisy',\n",
       "  'species': 'duck'}]"
      ]
     },
     "execution_count": 26,
     "metadata": {},
     "output_type": "execute_result"
    }
   ],
   "source": [
    "query = {'_id': '3'}\n",
    "my_first_collection.delete_one(query)\n",
    "[r for r in my_first_collection.find()]"
   ]
  },
  {
   "cell_type": "code",
   "execution_count": 27,
   "id": "3195c80b",
   "metadata": {},
   "outputs": [
    {
     "data": {
      "text/plain": [
       "[{'_id': ObjectId('6359b8e629b1bd6ef78d1e93'), 'name': 'Minnie Mouse'},\n",
       " {'_id': ObjectId('6359b91a29b1bd6ef78d1e94'), 'name': 'Minnie', 'age': 90},\n",
       " {'_id': 3, 'name': 'Goofy', 'age': 87, 'species': 'dog'},\n",
       " {'_id': ObjectId('635c08710cefb4846f2dc44e'), 'name': 'Mickey Mouse'},\n",
       " {'_id': ObjectId('635c08710cefb4846f2dc44f'), 'name': 'Minnie', 'age': 90}]"
      ]
     },
     "execution_count": 27,
     "metadata": {},
     "output_type": "execute_result"
    }
   ],
   "source": [
    "query = {'species': 'duck'}\n",
    "my_first_collection.delete_many(query)\n",
    "[r for r in my_first_collection.find()]"
   ]
  },
  {
   "cell_type": "code",
   "execution_count": 28,
   "id": "d7452845",
   "metadata": {},
   "outputs": [
    {
     "data": {
      "text/plain": [
       "{'nIndexesWas': 1, 'ns': 'my_db.my_collection', 'ok': 1.0}"
      ]
     },
     "execution_count": 28,
     "metadata": {},
     "output_type": "execute_result"
    }
   ],
   "source": [
    "my_first_db.drop_collection('my_collection')"
   ]
  },
  {
   "cell_type": "code",
   "execution_count": 29,
   "id": "ee29a7f9",
   "metadata": {},
   "outputs": [
    {
     "data": {
      "text/plain": [
       "[]"
      ]
     },
     "execution_count": 29,
     "metadata": {},
     "output_type": "execute_result"
    }
   ],
   "source": [
    "my_first_db.list_collection_names()"
   ]
  },
  {
   "cell_type": "code",
   "execution_count": 30,
   "id": "632b4f2f",
   "metadata": {},
   "outputs": [],
   "source": [
    "mongo.drop_database('my_db')"
   ]
  },
  {
   "cell_type": "code",
   "execution_count": 31,
   "id": "62fc07d8",
   "metadata": {},
   "outputs": [
    {
     "data": {
      "text/plain": [
       "['admin', 'config', 'local']"
      ]
     },
     "execution_count": 31,
     "metadata": {},
     "output_type": "execute_result"
    }
   ],
   "source": [
    "mongo.list_database_names()"
   ]
  },
  {
   "cell_type": "code",
   "execution_count": null,
   "id": "d2e46091",
   "metadata": {},
   "outputs": [],
   "source": []
  }
 ],
 "metadata": {
  "kernelspec": {
   "display_name": "PythonData",
   "language": "python",
   "name": "pythondata"
  },
  "language_info": {
   "codemirror_mode": {
    "name": "ipython",
    "version": 3
   },
   "file_extension": ".py",
   "mimetype": "text/x-python",
   "name": "python",
   "nbconvert_exporter": "python",
   "pygments_lexer": "ipython3",
   "version": "3.9.12"
  }
 },
 "nbformat": 4,
 "nbformat_minor": 5
}
